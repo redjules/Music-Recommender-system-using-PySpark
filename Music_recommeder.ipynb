{
  "nbformat": 4,
  "nbformat_minor": 0,
  "metadata": {
    "colab": {
      "provenance": [],
      "mount_file_id": "10cTGrN236lrUl5MxX14kHrM-GCFs6EWZ",
      "authorship_tag": "ABX9TyPxv+MPPonKUzBp66mCbG/F",
      "include_colab_link": true
    },
    "kernelspec": {
      "name": "python3",
      "display_name": "Python 3"
    },
    "language_info": {
      "name": "python"
    }
  },
  "cells": [
    {
      "cell_type": "markdown",
      "metadata": {
        "id": "view-in-github",
        "colab_type": "text"
      },
      "source": [
        "<a href=\"https://colab.research.google.com/github/redjules/Music-Recommender-system-using-PySpark/blob/main/Music_recommeder.ipynb\" target=\"_parent\"><img src=\"https://colab.research.google.com/assets/colab-badge.svg\" alt=\"Open In Colab\"/></a>"
      ]
    },
    {
      "cell_type": "markdown",
      "source": [
        "Install pyspark"
      ],
      "metadata": {
        "id": "HlOy6XOTApYX"
      }
    },
    {
      "cell_type": "code",
      "source": [
        "from google.colab import drive\n",
        "drive.mount('/content/drive')"
      ],
      "metadata": {
        "colab": {
          "base_uri": "https://localhost:8080/"
        },
        "id": "Ogs6q8zFA5x1",
        "outputId": "ead79962-305c-49ea-9875-6e5a3b241b61"
      },
      "execution_count": 2,
      "outputs": [
        {
          "output_type": "stream",
          "name": "stdout",
          "text": [
            "Drive already mounted at /content/drive; to attempt to forcibly remount, call drive.mount(\"/content/drive\", force_remount=True).\n"
          ]
        }
      ]
    },
    {
      "cell_type": "code",
      "execution_count": 3,
      "metadata": {
        "colab": {
          "base_uri": "https://localhost:8080/"
        },
        "id": "75rccFFa-5uf",
        "outputId": "dd2afbba-f9cb-48dd-8926-17ddcd745415"
      },
      "outputs": [
        {
          "output_type": "stream",
          "name": "stdout",
          "text": [
            "Looking in indexes: https://pypi.org/simple, https://us-python.pkg.dev/colab-wheels/public/simple/\n",
            "Collecting pyspark\n",
            "  Downloading pyspark-3.4.0.tar.gz (310.8 MB)\n",
            "\u001b[2K     \u001b[90m━━━━━━━━━━━━━━━━━━━━━━━━━━━━━━━━━━━━━━━\u001b[0m \u001b[32m310.8/310.8 MB\u001b[0m \u001b[31m3.5 MB/s\u001b[0m eta \u001b[36m0:00:00\u001b[0m\n",
            "\u001b[?25h  Preparing metadata (setup.py) ... \u001b[?25l\u001b[?25hdone\n",
            "Requirement already satisfied: py4j==0.10.9.7 in /usr/local/lib/python3.10/dist-packages (from pyspark) (0.10.9.7)\n",
            "Building wheels for collected packages: pyspark\n",
            "  Building wheel for pyspark (setup.py) ... \u001b[?25l\u001b[?25hdone\n",
            "  Created wheel for pyspark: filename=pyspark-3.4.0-py2.py3-none-any.whl size=311317130 sha256=2deaf407fa721714dd32bff8e661f114bc582759072090d7ad547825cd28ede5\n",
            "  Stored in directory: /root/.cache/pip/wheels/7b/1b/4b/3363a1d04368e7ff0d408e57ff57966fcdf00583774e761327\n",
            "Successfully built pyspark\n",
            "Installing collected packages: pyspark\n",
            "Successfully installed pyspark-3.4.0\n"
          ]
        }
      ],
      "source": [
        "!pip install pyspark"
      ]
    },
    {
      "cell_type": "markdown",
      "source": [
        "Importing the modules"
      ],
      "metadata": {
        "id": "GIH7OFoLBN0E"
      }
    },
    {
      "cell_type": "code",
      "source": [
        "from pyspark.sql import SparkSession\n",
        "from pyspark.sql.functions import count, desc, col, max\n",
        "from pyspark.ml.feature import StringIndexer\n",
        "from pyspark.ml import Pipeline\n",
        "from pyspark.ml.recommendation import ALS\n",
        "from pyspark.ml.tuning import TrainValidationSplit, ParamGridBuilder\n"
      ],
      "metadata": {
        "id": "w5cZUicJBQdD"
      },
      "execution_count": 4,
      "outputs": []
    },
    {
      "cell_type": "markdown",
      "source": [
        "Creating the spark session"
      ],
      "metadata": {
        "id": "MDCnjCMdB1jY"
      }
    },
    {
      "cell_type": "code",
      "source": [
        "spark = SparkSession.builder.appName(\"lastfm\").getOrCreate()"
      ],
      "metadata": {
        "id": "pt3hQ25jB3ZJ"
      },
      "execution_count": 5,
      "outputs": []
    },
    {
      "cell_type": "markdown",
      "source": [
        "## Loading the dataset"
      ],
      "metadata": {
        "id": "CEPhEvvZCKqz"
      }
    },
    {
      "cell_type": "code",
      "source": [
        "file_path = '/content/drive/MyDrive/data analysis/listenings.csv'\n",
        "df_listenings = spark.read.format('csv').option('header',True).option('inferSchema',True).load(file_path)\n",
        "df_listenings.show()\n"
      ],
      "metadata": {
        "colab": {
          "base_uri": "https://localhost:8080/"
        },
        "id": "QEO09jH2CMkz",
        "outputId": "7107191f-f0d4-4cc0-a3d0-7a17bb923922"
      },
      "execution_count": 6,
      "outputs": [
        {
          "output_type": "stream",
          "name": "stdout",
          "text": [
            "+-----------+-------------+--------------------+---------------+--------------------+\n",
            "|    user_id|         date|               track|         artist|               album|\n",
            "+-----------+-------------+--------------------+---------------+--------------------+\n",
            "|000Silenced|1299680100000|           Price Tag|       Jessie J|         Who You Are|\n",
            "|000Silenced|1299679920000|Price Tag (Acoust...|       Jessie J|           Price Tag|\n",
            "|000Silenced|1299679440000|Be Mine! (Ballad ...|          Robyn|            Be Mine!|\n",
            "|000Silenced|1299679200000|            Acapella|          Kelis|            Acapella|\n",
            "|000Silenced|1299675660000|   I'm Not Invisible|      The Tease|   I'm Not Invisible|\n",
            "|000Silenced|1297511400000|Bounce (Feat NORE...|       MSTRKRFT|         Fist of God|\n",
            "|000Silenced|1294498440000|Don't Stop The Mu...|        Rihanna|Addicted 2 Bassli...|\n",
            "|000Silenced|1292438340000|               ObZen|      Meshuggah|               ObZen|\n",
            "|000Silenced|1292437740000|   Yama's Messengers|         Gojira|The Way of All Flesh|\n",
            "|000Silenced|1292436360000|On the Brink of E...|   Napalm Death|Time Waits For No...|\n",
            "|000Silenced|1292436360000|On the Brink of E...|   Napalm Death|Time Waits For No...|\n",
            "|000Silenced|1292435940000|        In Deference|   Napalm Death|      Smear Campaign|\n",
            "|000Silenced|1292434920000|      Post(?)organic|    Decapitated|Organic Hallucinosis|\n",
            "|000Silenced|1292434560000|        Mind Feeders|   Dom & Roland| No Strings Attached|\n",
            "|000Silenced|1292434320000|Necrosadistic War...|Cannibal Corpse|                Kill|\n",
            "|000Silenced|1292365560000|     Dance All Night|   Dom & Roland|          Chronology|\n",
            "|000Silenced|1292365260000|          Late Night|   Dom & Roland|          Chronology|\n",
            "|000Silenced|1292365020000|          Freak Seen|   Dom & Roland|          Chronology|\n",
            "|000Silenced|1292364720000|Paradrenasite (Hi...|   Dom & Roland|          Chronology|\n",
            "|000Silenced|1292364300000|               Rhino|   Dom & Roland|          Chronology|\n",
            "+-----------+-------------+--------------------+---------------+--------------------+\n",
            "only showing top 20 rows\n",
            "\n"
          ]
        }
      ]
    },
    {
      "cell_type": "markdown",
      "source": [
        "## Cleaning tables"
      ],
      "metadata": {
        "id": "Jy2Ma9pmDnAw"
      }
    },
    {
      "cell_type": "code",
      "source": [
        "df_listenings = df_listenings.drop('date')\n",
        "df_listenings.show()"
      ],
      "metadata": {
        "colab": {
          "base_uri": "https://localhost:8080/"
        },
        "id": "LCAXakDtDpR3",
        "outputId": "18e0678b-88aa-4ec1-b8f8-967e27ac8de2"
      },
      "execution_count": 7,
      "outputs": [
        {
          "output_type": "stream",
          "name": "stdout",
          "text": [
            "+-----------+--------------------+---------------+--------------------+\n",
            "|    user_id|               track|         artist|               album|\n",
            "+-----------+--------------------+---------------+--------------------+\n",
            "|000Silenced|           Price Tag|       Jessie J|         Who You Are|\n",
            "|000Silenced|Price Tag (Acoust...|       Jessie J|           Price Tag|\n",
            "|000Silenced|Be Mine! (Ballad ...|          Robyn|            Be Mine!|\n",
            "|000Silenced|            Acapella|          Kelis|            Acapella|\n",
            "|000Silenced|   I'm Not Invisible|      The Tease|   I'm Not Invisible|\n",
            "|000Silenced|Bounce (Feat NORE...|       MSTRKRFT|         Fist of God|\n",
            "|000Silenced|Don't Stop The Mu...|        Rihanna|Addicted 2 Bassli...|\n",
            "|000Silenced|               ObZen|      Meshuggah|               ObZen|\n",
            "|000Silenced|   Yama's Messengers|         Gojira|The Way of All Flesh|\n",
            "|000Silenced|On the Brink of E...|   Napalm Death|Time Waits For No...|\n",
            "|000Silenced|On the Brink of E...|   Napalm Death|Time Waits For No...|\n",
            "|000Silenced|        In Deference|   Napalm Death|      Smear Campaign|\n",
            "|000Silenced|      Post(?)organic|    Decapitated|Organic Hallucinosis|\n",
            "|000Silenced|        Mind Feeders|   Dom & Roland| No Strings Attached|\n",
            "|000Silenced|Necrosadistic War...|Cannibal Corpse|                Kill|\n",
            "|000Silenced|     Dance All Night|   Dom & Roland|          Chronology|\n",
            "|000Silenced|          Late Night|   Dom & Roland|          Chronology|\n",
            "|000Silenced|          Freak Seen|   Dom & Roland|          Chronology|\n",
            "|000Silenced|Paradrenasite (Hi...|   Dom & Roland|          Chronology|\n",
            "|000Silenced|               Rhino|   Dom & Roland|          Chronology|\n",
            "+-----------+--------------------+---------------+--------------------+\n",
            "only showing top 20 rows\n",
            "\n"
          ]
        }
      ]
    },
    {
      "cell_type": "code",
      "source": [
        "df_listenings = df_listenings.na.drop()\n",
        "df_listenings.show()"
      ],
      "metadata": {
        "colab": {
          "base_uri": "https://localhost:8080/"
        },
        "id": "JyGExg1AD0ji",
        "outputId": "b67a84f5-7ab4-49e0-a509-c8fa509a7152"
      },
      "execution_count": 8,
      "outputs": [
        {
          "output_type": "stream",
          "name": "stdout",
          "text": [
            "+-----------+--------------------+---------------+--------------------+\n",
            "|    user_id|               track|         artist|               album|\n",
            "+-----------+--------------------+---------------+--------------------+\n",
            "|000Silenced|           Price Tag|       Jessie J|         Who You Are|\n",
            "|000Silenced|Price Tag (Acoust...|       Jessie J|           Price Tag|\n",
            "|000Silenced|Be Mine! (Ballad ...|          Robyn|            Be Mine!|\n",
            "|000Silenced|            Acapella|          Kelis|            Acapella|\n",
            "|000Silenced|   I'm Not Invisible|      The Tease|   I'm Not Invisible|\n",
            "|000Silenced|Bounce (Feat NORE...|       MSTRKRFT|         Fist of God|\n",
            "|000Silenced|Don't Stop The Mu...|        Rihanna|Addicted 2 Bassli...|\n",
            "|000Silenced|               ObZen|      Meshuggah|               ObZen|\n",
            "|000Silenced|   Yama's Messengers|         Gojira|The Way of All Flesh|\n",
            "|000Silenced|On the Brink of E...|   Napalm Death|Time Waits For No...|\n",
            "|000Silenced|On the Brink of E...|   Napalm Death|Time Waits For No...|\n",
            "|000Silenced|        In Deference|   Napalm Death|      Smear Campaign|\n",
            "|000Silenced|      Post(?)organic|    Decapitated|Organic Hallucinosis|\n",
            "|000Silenced|        Mind Feeders|   Dom & Roland| No Strings Attached|\n",
            "|000Silenced|Necrosadistic War...|Cannibal Corpse|                Kill|\n",
            "|000Silenced|     Dance All Night|   Dom & Roland|          Chronology|\n",
            "|000Silenced|          Late Night|   Dom & Roland|          Chronology|\n",
            "|000Silenced|          Freak Seen|   Dom & Roland|          Chronology|\n",
            "|000Silenced|Paradrenasite (Hi...|   Dom & Roland|          Chronology|\n",
            "|000Silenced|               Rhino|   Dom & Roland|          Chronology|\n",
            "+-----------+--------------------+---------------+--------------------+\n",
            "only showing top 20 rows\n",
            "\n"
          ]
        }
      ]
    },
    {
      "cell_type": "code",
      "source": [
        "row_numbers = df_listenings.count()\n",
        "column_numbers = len(df_listenings.columns)\n",
        "print(row_numbers, column_numbers)"
      ],
      "metadata": {
        "colab": {
          "base_uri": "https://localhost:8080/"
        },
        "id": "uz8egjqSEM9S",
        "outputId": "e0617026-b826-4fc2-c23f-db9f750d77d7"
      },
      "execution_count": 9,
      "outputs": [
        {
          "output_type": "stream",
          "name": "stdout",
          "text": [
            "13758905 4\n"
          ]
        }
      ]
    },
    {
      "cell_type": "markdown",
      "source": [
        "## Let's Perform some aggregation\n",
        "\n",
        "to see how many times each user has listened to specific track\n",
        "\n"
      ],
      "metadata": {
        "id": "w8FP_2HSD9Wp"
      }
    },
    {
      "cell_type": "code",
      "source": [
        "df_listenings_agg = df_listenings.select('user_id','track').groupby('user_id','track').agg(count('*')).orderBy('user_id')\n",
        "\n",
        "df_listenings_agg.show()"
      ],
      "metadata": {
        "colab": {
          "base_uri": "https://localhost:8080/"
        },
        "id": "yoz3J9gzEAGN",
        "outputId": "2407cfe9-17a6-4089-feaa-460f02e2fc24"
      },
      "execution_count": 10,
      "outputs": [
        {
          "output_type": "stream",
          "name": "stdout",
          "text": [
            "+-------+--------------------+--------+\n",
            "|user_id|               track|count(1)|\n",
            "+-------+--------------------+--------+\n",
            "| --Seph| White Winter Hymnal|       3|\n",
            "| --Seph|         The Funeral|       1|\n",
            "| --Seph|Hope There's Someone|       1|\n",
            "| --Seph|         The Painter|       1|\n",
            "| --Seph|          Je te veux|       1|\n",
            "| --Seph|            War Pigs|       1|\n",
            "| --Seph|                 F12|       1|\n",
            "| --Seph|                Team|       1|\n",
            "| --Seph|          Nightmares|       1|\n",
            "| --Seph|               Radio|       1|\n",
            "| --Seph|   All I Want Is You|       1|\n",
            "| --Seph|    Little by Little|       2|\n",
            "| --Seph|        After Nature|       1|\n",
            "| --Seph|In the Hall of th...|       1|\n",
            "| --Seph|   Hey There Delilah|       1|\n",
            "| --Seph|   Let's Call It Off|       1|\n",
            "| --Seph|               Leloo|       1|\n",
            "| --Seph|             Pack Up|       1|\n",
            "| --Seph|           Introitus|       1|\n",
            "| --Seph|        The Leanover|       1|\n",
            "+-------+--------------------+--------+\n",
            "only showing top 20 rows\n",
            "\n"
          ]
        }
      ]
    },
    {
      "cell_type": "code",
      "source": [
        "row_numbers = df_listenings_agg.count()\n",
        "column_numbers = len(df_listenings_agg.columns)\n",
        "print(row_numbers,column_numbers)"
      ],
      "metadata": {
        "colab": {
          "base_uri": "https://localhost:8080/"
        },
        "id": "hDIzxXdbFbXW",
        "outputId": "4cee41cb-7a72-4140-bc97-5c12744e8041"
      },
      "execution_count": 11,
      "outputs": [
        {
          "output_type": "stream",
          "name": "stdout",
          "text": [
            "9930128 3\n"
          ]
        }
      ]
    },
    {
      "cell_type": "code",
      "source": [
        "df_listenings_agg = df_listenings_agg.limit(20000)"
      ],
      "metadata": {
        "id": "x769OlFiFub1"
      },
      "execution_count": 12,
      "outputs": []
    },
    {
      "cell_type": "markdown",
      "source": [
        "## Let's convert ohe user id and track columns into unique integers\n",
        "\n",
        "About 'Unseen Label' error: see https://stackoverflow.com/questions/34681534/spark-ml-stringindexer-handling-unseen-labels"
      ],
      "metadata": {
        "id": "O1ui6pdPF1Cb"
      }
    },
    {
      "cell_type": "code",
      "source": [
        "indexer = [StringIndexer(inputCol=col, outputCol=col+'_index', handleInvalid='keep').fit(df_listenings_agg) for col in list(set(df_listenings_agg.columns) - set(['count']))]\n",
        "pipeline = Pipeline(stages=indexer)\n",
        "\n",
        "data = pipeline.fit(df_listenings_agg).transform(df_listenings_agg)\n",
        "data.show()\n"
      ],
      "metadata": {
        "colab": {
          "base_uri": "https://localhost:8080/"
        },
        "id": "J6J3H8MUF8S3",
        "outputId": "6edf3414-3155-49d4-e466-7e6d6462431e"
      },
      "execution_count": 18,
      "outputs": [
        {
          "output_type": "stream",
          "name": "stdout",
          "text": [
            "+-------+--------------------+--------+-------------+-----------+--------------+\n",
            "|user_id|               track|count(1)|user_id_index|track_index|count(1)_index|\n",
            "+-------+--------------------+--------+-------------+-----------+--------------+\n",
            "| --Seph|          Nightmares|       1|         69.0|    10600.0|           0.0|\n",
            "| --Seph|Virus (Luke Fair ...|       1|         69.0|    15893.0|           0.0|\n",
            "| --Seph|Airplanes [feat H...|       1|         69.0|      521.0|           0.0|\n",
            "| --Seph|Belina (Original ...|       1|         69.0|     3280.0|           0.0|\n",
            "| --Seph|              Monday|       1|         69.0|      334.0|           0.0|\n",
            "| --Seph|Hungarian Dance No 5|       1|         69.0|     7555.0|           0.0|\n",
            "| --Seph|       Life On Mars?|       1|         69.0|     1164.0|           0.0|\n",
            "| --Seph|  California Waiting|       1|         69.0|      195.0|           0.0|\n",
            "| --Seph|       Phantom Pt II|       1|         69.0|     1378.0|           0.0|\n",
            "| --Seph|   Summa for Strings|       1|         69.0|    13737.0|           0.0|\n",
            "| --Seph|      Hour for magic|       2|         69.0|     7492.0|           1.0|\n",
            "| --Seph|Hungarian Rhapsod...|       1|         69.0|     7556.0|           0.0|\n",
            "| --Seph|     The Way We Were|       1|         69.0|    14958.0|           0.0|\n",
            "| --Seph| Air on the G String|       1|         69.0|     2456.0|           0.0|\n",
            "| --Seph|Vestido Estampado...|       1|         69.0|    15847.0|           0.0|\n",
            "| --Seph|        Window Blues|       1|         69.0|     1841.0|           0.0|\n",
            "| --Seph| White Winter Hymnal|       3|         69.0|       59.0|           2.0|\n",
            "| --Seph|         The Embrace|       1|         69.0|    14386.0|           0.0|\n",
            "| --Seph|          Paris 2004|       7|         69.0|    11311.0|           7.0|\n",
            "| --Seph|Chelsea Hotel - L...|       1|         69.0|     4183.0|           0.0|\n",
            "+-------+--------------------+--------+-------------+-----------+--------------+\n",
            "only showing top 20 rows\n",
            "\n"
          ]
        }
      ]
    },
    {
      "cell_type": "code",
      "source": [
        "data = data.select('user_id_index','track_index','count(1)').orderBy('user_id_index')"
      ],
      "metadata": {
        "id": "HcOFPJhTHPJt"
      },
      "execution_count": 19,
      "outputs": []
    },
    {
      "cell_type": "markdown",
      "source": [
        "## Train and Test Data"
      ],
      "metadata": {
        "id": "WuSfCVh_Hg7T"
      }
    },
    {
      "cell_type": "code",
      "source": [
        "(training, test) = data.randomSplit([0.5,0.5])"
      ],
      "metadata": {
        "id": "cKon_hdeHjSQ"
      },
      "execution_count": 20,
      "outputs": []
    },
    {
      "cell_type": "markdown",
      "source": [
        "## Let's Create our Model"
      ],
      "metadata": {
        "id": "ek767kHeIMWk"
      }
    },
    {
      "cell_type": "code",
      "source": [
        "USERID = 'user_id_index'\n",
        "TRACK = 'track_index'\n",
        "COUNT = 'count(1)'\n",
        "\n",
        "als = ALS(maxIter=5, regParam=0.01, userCol=USERID, itemCol=TRACK, ratingCol=COUNT)\n",
        "model = als.fit(training)\n",
        "\n",
        "predictions = model.transform(test)"
      ],
      "metadata": {
        "id": "vZI5Fvk6IPJv"
      },
      "execution_count": 21,
      "outputs": []
    },
    {
      "cell_type": "markdown",
      "source": [
        "## Generate top 10 Track recommendations for each user"
      ],
      "metadata": {
        "id": "wSombmh6Jksu"
      }
    },
    {
      "cell_type": "code",
      "source": [
        "recs = model.recommendForAllUsers(10)"
      ],
      "metadata": {
        "id": "xVgerKozJqqa"
      },
      "execution_count": 22,
      "outputs": []
    },
    {
      "cell_type": "code",
      "source": [
        "recs.show()"
      ],
      "metadata": {
        "colab": {
          "base_uri": "https://localhost:8080/"
        },
        "id": "MUQwaVOVJxdN",
        "outputId": "893dfd09-38ec-4e91-d989-6a89645e2191"
      },
      "execution_count": 23,
      "outputs": [
        {
          "output_type": "stream",
          "name": "stdout",
          "text": [
            "+-------------+--------------------+\n",
            "|user_id_index|     recommendations|\n",
            "+-------------+--------------------+\n",
            "|            0|[{16908, 9.68373}...|\n",
            "|            1|[{1439, 9.378372}...|\n",
            "|            2|[{16908, 11.86632...|\n",
            "|            3|[{1739, 11.365164...|\n",
            "|            4|[{1739, 10.318849...|\n",
            "|            5|[{11940, 7.398039...|\n",
            "|            6|[{11940, 52.51876...|\n",
            "|            7|[{16968, 6.864036...|\n",
            "|            8|[{14825, 8.010231...|\n",
            "|            9|[{3345, 7.531477}...|\n",
            "|           10|[{14825, 9.628588...|\n",
            "|           11|[{16908, 8.17242}...|\n",
            "|           12|[{101, 11.249694}...|\n",
            "|           13|[{3345, 9.0786915...|\n",
            "|           14|[{11940, 15.30678...|\n",
            "|           15|[{11940, 31.98986...|\n",
            "|           16|[{4460, 15.171433...|\n",
            "|           17|[{16908, 18.82078...|\n",
            "|           18|[{16908, 12.95949...|\n",
            "|           19|[{11940, 49.28164...|\n",
            "+-------------+--------------------+\n",
            "only showing top 20 rows\n",
            "\n"
          ]
        }
      ]
    },
    {
      "cell_type": "code",
      "source": [
        "recs.take(1)"
      ],
      "metadata": {
        "colab": {
          "base_uri": "https://localhost:8080/"
        },
        "id": "kJGUJNg7PFwo",
        "outputId": "0e2e9455-b94c-43a8-b181-31f2cf28b8ff"
      },
      "execution_count": 24,
      "outputs": [
        {
          "output_type": "execute_result",
          "data": {
            "text/plain": [
              "[Row(user_id_index=0, recommendations=[Row(track_index=16908, rating=9.683730125427246), Row(track_index=14825, rating=7.794445037841797), Row(track_index=7847, rating=7.794445037841797), Row(track_index=9498, rating=7.424191474914551), Row(track_index=10643, rating=6.9283952713012695), Row(track_index=3524, rating=6.033249855041504), Row(track_index=1530, rating=5.196296691894531), Row(track_index=11326, rating=4.9020161628723145), Row(track_index=1439, rating=4.588940620422363), Row(track_index=1694, rating=4.548861026763916)])]"
            ]
          },
          "metadata": {},
          "execution_count": 24
        }
      ]
    }
  ]
}